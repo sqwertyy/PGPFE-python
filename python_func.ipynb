{
  "nbformat": 4,
  "nbformat_minor": 0,
  "metadata": {
    "colab": {
      "provenance": [],
      "authorship_tag": "ABX9TyP7HGnS8kDBZqcGWxtdwYHq",
      "include_colab_link": true
    },
    "kernelspec": {
      "name": "python3",
      "display_name": "Python 3"
    },
    "language_info": {
      "name": "python"
    }
  },
  "cells": [
    {
      "cell_type": "markdown",
      "metadata": {
        "id": "view-in-github",
        "colab_type": "text"
      },
      "source": [
        "<a href=\"https://colab.research.google.com/github/sqwertyy/PGPFE-python/blob/main/python_func.ipynb\" target=\"_parent\"><img src=\"https://colab.research.google.com/assets/colab-badge.svg\" alt=\"Open In Colab\"/></a>"
      ]
    },
    {
      "cell_type": "code",
      "execution_count": 1,
      "metadata": {
        "id": "kUDSTDuHz0np"
      },
      "outputs": [],
      "source": [
        "def addition(a,b):\n",
        "  c=a+b\n",
        "  return c\n"
      ]
    },
    {
      "cell_type": "code",
      "source": [
        "def function2(a,b):\n",
        "  c=a+b\n",
        "  print (\"the addition is= \",c)\n",
        "  return c\n",
        "total=function2(8,9)\n"
      ],
      "metadata": {
        "colab": {
          "base_uri": "https://localhost:8080/"
        },
        "id": "u2WbNu8p0Ugo",
        "outputId": "e8430f1d-bbce-453a-e049-fdb999a87c21"
      },
      "execution_count": 3,
      "outputs": [
        {
          "output_type": "stream",
          "name": "stdout",
          "text": [
            "the addition is=  17\n"
          ]
        }
      ]
    }
  ]
}